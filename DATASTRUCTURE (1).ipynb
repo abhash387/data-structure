{
  "nbformat": 4,
  "nbformat_minor": 0,
  "metadata": {
    "colab": {
      "provenance": []
    },
    "kernelspec": {
      "name": "python3",
      "display_name": "Python 3"
    },
    "language_info": {
      "name": "python"
    }
  },
  "cells": [
    {
      "cell_type": "markdown",
      "source": [
        "#**ASSIGNMENT 2**"
      ],
      "metadata": {
        "id": "QQWLqA24nMJ_"
      }
    },
    {
      "cell_type": "markdown",
      "source": [
        "#( **DATA STRUCTURE** )"
      ],
      "metadata": {
        "id": "BAJRoFIVpr9q"
      }
    },
    {
      "cell_type": "markdown",
      "source": [
        "## **1. DISCUSS STRING SLICING AND PROVIDE EXAMPLE??**"
      ],
      "metadata": {
        "id": "yZZRDxOCqZ0m"
      }
    },
    {
      "cell_type": "markdown",
      "source": [
        "###**DEFINE**\n",
        "\n",
        "String slicing is a feature in Python that allows you to extract a portion of a string by specifying a range of indices. It is a tool for manipulating and accessing substrings without altering the original string. The syntax for string slicing is straightforward, and it follows the format\n",
        "\n",
        "### **RULES >>**\n",
        "\n",
        "**Start:** The index where the slice begins (inclusive). If omitted, it defaults to the beginning of the string.\n",
        "\n",
        "**End:** The index where the slice ends (exclusive). If omitted, it defaults to the end of the string.\n",
        "\n",
        "### **Practical Uses**\n",
        "\n",
        "**Extracting Substrings** :  To get specific parts of a string based on known indices.\n",
        "\n",
        "\n",
        "**String Manipulation**: To rearrange or modify parts of a string for various purposes.\n",
        "\n",
        "**Data Processing**: To parse and process data from strings, such as logs, formatted text, etc.\n",
        "\n",
        "\n"
      ],
      "metadata": {
        "id": "aZa0TXJXqQ3O"
      }
    },
    {
      "cell_type": "code",
      "source": [
        "#EXAMPLES\n",
        "#Normal slicing\n",
        "text = \"Hello, World!\"\n",
        "print(text[0:5])\n",
        "\n",
        "#EXAMPLES2\n",
        "\n",
        "text = \"Hello, World!\"\n",
        "print(text[:5])\n",
        "\n",
        "\n",
        "#EXAMPLES3\n",
        "\n",
        "text = \"Hello, World!\"\n",
        "print(text[6:])\n",
        "\n",
        "\n",
        "\n",
        "\n",
        "\n"
      ],
      "metadata": {
        "colab": {
          "base_uri": "https://localhost:8080/"
        },
        "id": "yaRkIH8buwxM",
        "outputId": "bcb59ddc-b54f-4d23-9b9c-081daee203de"
      },
      "execution_count": 4,
      "outputs": [
        {
          "output_type": "stream",
          "name": "stdout",
          "text": [
            "Hello\n",
            "Hello\n",
            " World!\n"
          ]
        }
      ]
    },
    {
      "cell_type": "markdown",
      "source": [
        "### This is the example of slicing the string"
      ],
      "metadata": {
        "id": "KznuX0WPzq75"
      }
    },
    {
      "cell_type": "markdown",
      "source": [
        "## **(Q2) Explain the key features of List in python??**\n",
        "\n"
      ],
      "metadata": {
        "id": "5X-0N3hK0giX"
      }
    },
    {
      "cell_type": "markdown",
      "source": [
        "### **Key Features >>**\n",
        "\n",
        "**1. Ordered** : Maintains the order of elements.\n",
        "\n",
        "**2. Mutable**: Can be changed (add, remove, modify elements).\n",
        "\n",
        "**3. Dynamic Size**: Can grow or shrink as needed.\n",
        "\n",
        "**4. Heterogeneous**: Can contain mixed types (e.g., integers, strings).\n",
        "\n",
        "**5. Indexed Access**: Access elements using indices (starting at 0).\n",
        "\n",
        "**6. Slicing**: Extract parts of the list using slicing syntax.\n",
        "\n",
        "**7. List Operations**: Supports concatenation (+), repetition (*)\n",
        "\n",
        "**8. Comprehensions**: Create lists concisely using list comprehensions.\n",
        "\n",
        "**9. Built-in Methods**: Includes methods like append(), remove(), and sort().\n",
        "\n",
        "**10. Nesting**: Can contain other lists\n",
        "\n",
        "### *THIS ARE THE KEY FEATURES OF LIST IN PYTHON ......*"
      ],
      "metadata": {
        "id": "_G7x2dKj2rLN"
      }
    },
    {
      "cell_type": "markdown",
      "source": [],
      "metadata": {
        "id": "UEutauFM9FB6"
      }
    },
    {
      "cell_type": "markdown",
      "source": [
        "## **(Q.3)  DESCRIBE HOW TO ACCESS, MODIFY,AND DELETE ELEMENT IN A LIST WITH THE EXAMPLE**"
      ],
      "metadata": {
        "id": "g3qr2V949TYd"
      }
    },
    {
      "cell_type": "markdown",
      "source": [
        "### **1. ACCESSING THE ELEMENT >>**\n",
        "\n",
        " ***By*** ***Index***  :  Elements in a list are accessed using their index, with indices starting at 0.\n",
        "\n",
        "***Negative*** ***Indexing***  :  Negative indices allow access to elements from the end of the list, where -1 refers to the last element.\n",
        "\n",
        "***Slicing*** : A subset of the list can be accessed using slicing syntax list\n",
        " [start:end] , which retrieves elements from the start index up to, but not including, the end index.\n",
        "\n",
        "### **2. Modifying Elements >>**\n",
        "\n",
        "***By Index***  : Elements can be modified by assigning a new value to a specific index using list[index]\n",
        "\n",
        "***Slicing*** : Multiple elements can be modified by assigning a list of new values to a slice of the original list using list[start:end] = new_values.\n",
        "\n",
        "***Appending*** : New elements can be added to the end of the list using list.append(value).\n",
        "\n",
        "***Inserting*** : Elements can be inserted at a specific position using list.insert(index, value).\n",
        "\n",
        "### **3.  Deleting Elements >>**\n",
        "\n",
        "***By Index*** : Elements can be removed by index using the del statement or list.pop(index), which also returns the removed element.\n",
        "\n",
        "***By Value*** : Elements can be removed by value using list.remove(value), which removes the first occurrence of the specified value.\n",
        "Using pop: The list.pop() method removes and returns the last element by default, or an element at a specified index if an index is provided.\n",
        "\n",
        "##**EXAMPLES**\n",
        "\n",
        "###ACCESSING THE ELEMENT"
      ],
      "metadata": {
        "id": "B74i4ifS-nhZ"
      }
    },
    {
      "cell_type": "code",
      "source": [
        "#BY INDEX\n",
        "\n",
        "my_list = ['apple', 'banana', 'cherry']\n",
        "print(my_list[1])  # Output: banana\n",
        "\n",
        "\n",
        "#NEGATIVE INDEX\n",
        "my_list = ['apple', 'banana', 'cherry']\n",
        "print(my_list[-1])  # Output: banana\n",
        "\n",
        "#SLLICING\n",
        "\n",
        "my_list = ['apple', 'banana', 'cherry']\n",
        "print(my_list[0:7])  # Output: banana\n"
      ],
      "metadata": {
        "colab": {
          "base_uri": "https://localhost:8080/"
        },
        "id": "ysoOk4E_5LXl",
        "outputId": "57cd93ad-69e7-4199-bcd1-984fac34febc"
      },
      "execution_count": 5,
      "outputs": [
        {
          "output_type": "stream",
          "name": "stdout",
          "text": [
            "banana\n",
            "cherry\n",
            "['apple', 'banana', 'cherry']\n"
          ]
        }
      ]
    },
    {
      "cell_type": "markdown",
      "source": [
        "### 2. Modifying Elements"
      ],
      "metadata": {
        "id": "RjNFTF1_G39i"
      }
    },
    {
      "cell_type": "code",
      "source": [
        "#BY INDEX\n",
        "my_list = ['apple', 'banana', 'cherry']\n",
        "my_list[1] = 'blueberry'\n",
        "print(my_list)\n",
        "\n",
        "#SLICING\n",
        "my_list = ['apple', 'banana', 'cherry']\n",
        "my_list[1:3] = ['blackberry', 'date']\n",
        "print(my_list)\n",
        "\n",
        "#APPENDING\n",
        "my_list = ['apple', 'banana', 'cherry']\n",
        "my_list.append('fig')\n",
        "print(my_list)\n"
      ],
      "metadata": {
        "colab": {
          "base_uri": "https://localhost:8080/"
        },
        "id": "NYijlBzzGkgp",
        "outputId": "343ae612-60af-4473-dbd5-d686e75f4b95"
      },
      "execution_count": 6,
      "outputs": [
        {
          "output_type": "stream",
          "name": "stdout",
          "text": [
            "['apple', 'blueberry', 'cherry']\n",
            "['apple', 'blackberry', 'date']\n",
            "['apple', 'banana', 'cherry', 'fig']\n"
          ]
        }
      ]
    },
    {
      "cell_type": "markdown",
      "source": [
        "###3 DELETING ELEMENTTS"
      ],
      "metadata": {
        "id": "5Mmc5PnlIiMA"
      }
    },
    {
      "cell_type": "code",
      "source": [
        "#BY INDEX\n",
        "my_list = ['apple', 'banana', 'cherry']\n",
        "del my_list[1]\n",
        "print(my_list)\n",
        "\n",
        "#BY VALUE\n",
        "my_list = ['apple', 'banana', 'cherry']\n",
        "my_list.remove('banana')\n",
        "print(my_list)\n",
        "\n",
        "#POP\n",
        "my_list = ['apple', 'banana', 'cherry']\n",
        "my_list.pop()\n",
        "print(my_list)\n",
        "\n",
        "\n"
      ],
      "metadata": {
        "colab": {
          "base_uri": "https://localhost:8080/"
        },
        "id": "k8K3JHQII1c1",
        "outputId": "07d41e33-1f3c-4733-956f-5cd763d44d4b"
      },
      "execution_count": 8,
      "outputs": [
        {
          "output_type": "stream",
          "name": "stdout",
          "text": [
            "['apple', 'cherry']\n",
            "['apple', 'cherry']\n",
            "['apple', 'banana']\n"
          ]
        }
      ]
    },
    {
      "cell_type": "markdown",
      "source": [
        "## **( Q.4 ) COMPARE AND CONTRAST TUPLES AND LIST WITH EXAMPLES**\n",
        "\n",
        "### ***1. Mutability***\n",
        "***List***  ***:***   Lists are mutable, meaning their contents can be changed after creation. You can add, remove, or modify elements.\n",
        "\n",
        "***Tuple :***Tuples are immutable, meaning once created, their contents cannot be changed. You cannot add, remove, or modify element\n",
        "\n"
      ],
      "metadata": {
        "id": "LjvAZMzqKYI8"
      }
    },
    {
      "cell_type": "code",
      "source": [
        "#LIST\n",
        "my_list = [1, 2, 3]\n",
        "my_list[1] = 20\n",
        "print(my_list)\n",
        "\n",
        "#TUPLES\n",
        "my_tuple = (1, 2, 3)\n",
        "# my_tuple[1] = 20  # This will raise an error\n",
        "\n"
      ],
      "metadata": {
        "colab": {
          "base_uri": "https://localhost:8080/"
        },
        "id": "iAUDIBuwNQPw",
        "outputId": "cfad168b-9d49-4b4a-818e-e7a28eb8bafe"
      },
      "execution_count": 10,
      "outputs": [
        {
          "output_type": "stream",
          "name": "stdout",
          "text": [
            "[1, 20, 3]\n"
          ]
        }
      ]
    },
    {
      "cell_type": "markdown",
      "source": [
        "## ***2. Syntax***\n",
        "***List :***  Lists are defined using square brackets [  ].\n",
        "\n",
        "***Tuple :***Tuples are defined using parentheses ( )."
      ],
      "metadata": {
        "id": "JTe_qBT9N68u"
      }
    },
    {
      "cell_type": "code",
      "source": [
        "#LIST\n",
        "my_list = [1, 2, 3]\n",
        "\n",
        "#TUPLES\n",
        "my_list =  (1, 2, 3)\n"
      ],
      "metadata": {
        "id": "xR4QS_sJNyIv"
      },
      "execution_count": 12,
      "outputs": []
    },
    {
      "cell_type": "markdown",
      "source": [
        "## ***3. Nesting***\n",
        "***List in tuples :*** Tuples can contain lists.\n",
        "\n",
        "***Tuple in list :*** list can  contain tuples"
      ],
      "metadata": {
        "id": "v8Hq4ILMPVFR"
      }
    },
    {
      "cell_type": "code",
      "source": [
        "#LIST IN TUPLE\n",
        "my_list = ([1, 2], [3, 4])\n",
        "print(my_list)\n",
        "\n",
        "#TUPLES IN LIST\n",
        "nested_list = [(1, 2), (3, 4)]\n",
        "print(my_list)"
      ],
      "metadata": {
        "colab": {
          "base_uri": "https://localhost:8080/"
        },
        "id": "Zpe6SdSEQQXh",
        "outputId": "ced3eb72-fc5b-4f56-e9ac-d3fa1acd0f22"
      },
      "execution_count": 13,
      "outputs": [
        {
          "output_type": "stream",
          "name": "stdout",
          "text": [
            "([1, 2], [3, 4])\n",
            "([1, 2], [3, 4])\n"
          ]
        }
      ]
    },
    {
      "cell_type": "markdown",
      "source": [
        "## ***4. Methods***\n",
        "\n",
        "***List:***\n",
        "\n",
        " Lists come with a wide range of methods for modification and manipulation, such as append(), extend(), remove(), and pop().\n",
        "\n",
        "***Tuple:***\n",
        "\n",
        " Tuples have fewer methods, mainly count() and index(), because they are immutable."
      ],
      "metadata": {
        "id": "CFQs8oKeRW8J"
      }
    },
    {
      "cell_type": "code",
      "source": [
        "#LIST\n",
        "my_list = [1, 2, 3]\n",
        "my_list.append(4)  # Adding an element\n",
        "print(my_list)\n",
        "\n",
        "#TUPLE\n",
        "my_tuple = (1, 2, 2, 3)\n",
        "print(my_tuple.count(2))  #count\n",
        "\n"
      ],
      "metadata": {
        "colab": {
          "base_uri": "https://localhost:8080/"
        },
        "id": "QU0CxwWnSIpN",
        "outputId": "40b8a71a-bbd9-4587-8bc2-15a6c884b747"
      },
      "execution_count": 16,
      "outputs": [
        {
          "output_type": "stream",
          "name": "stdout",
          "text": [
            "[1, 2, 3, 4]\n",
            "2\n"
          ]
        }
      ]
    },
    {
      "cell_type": "markdown",
      "source": [
        "## **(Q.5 ) DESCRIBE THE KEY FEATURES OF SETS AND PROVIDE EXAMPLES OF THEIR USES**\n",
        "\n",
        "**Unordered** : Sets do not store elements in any specific order.\n",
        "\n",
        "**Unique Elements** : Each element in a set must be unique; duplicates are automatically removed.\n",
        "\n",
        "**Mutable** : Sets can be modified after creation by adding or removing elements.\n",
        "\n",
        "**No Indexing** : Sets do not support indexing or slicing, so elements cannot be accessed by position.\n",
        "\n",
        "**Set Operations** : Supports mathematical operations such as union, intersection, and difference.\n",
        "\n",
        "**Dynamic Size** : Sets can grow or shrink dynamically as elements are added or removed."
      ],
      "metadata": {
        "id": "ebkcVL0eTsaN"
      }
    },
    {
      "cell_type": "code",
      "source": [
        "#Removing Duplicates: Convert a list with duplicates to a set to remove duplicates.\n",
        "\n",
        "my_list = [1, 2, 2, 3, 3]\n",
        "unique_set = set(my_list)\n",
        "print(unique_set)\n",
        "\n",
        "#Membership Testing: Quickly check if an element is in a set.\n",
        "\n",
        "my_set = {1, 2, 3}\n",
        "print(2 in my_set)\n",
        "\n",
        "#Set Operations: Perform set operations to find common elements, differences, etc.\n",
        "\n",
        "set1 = {1, 2, 3}\n",
        "set2 = {2, 3, 4}\n",
        "print(set1 & set2)"
      ],
      "metadata": {
        "colab": {
          "base_uri": "https://localhost:8080/"
        },
        "id": "TQ6Dt7x5VA7y",
        "outputId": "62af2829-e51f-47ed-de6e-9db3def5c07e"
      },
      "execution_count": 17,
      "outputs": [
        {
          "output_type": "stream",
          "name": "stdout",
          "text": [
            "{1, 2, 3}\n",
            "True\n",
            "{2, 3}\n"
          ]
        }
      ]
    },
    {
      "cell_type": "markdown",
      "source": [
        "## **(Q.6) DISCUSS THE USE CASES OF TUPLES AND SETS IN PYTHON PROGRAMMING**\n",
        "\n",
        "***Use Cases of Tuples>>***\n",
        "\n",
        "**FIXED COLLECTION**\n",
        "\n",
        " Tuples are used when you need to store a collection of items that should remain constant throughout the lifetime of the program. This immutability guarantees that the data cannot be altered, ensuring its integrity.\n",
        "\n",
        "***Example :*** Storing coordinates\n",
        "\n",
        "**Returning Multiple Values**\n",
        "\n",
        " Functions in Python can return multiple values by packing them into a tuple. This allows a function to provide a complex result composed of several data points.\n",
        "\n",
        "***Example:*** Returning both the minimum and maximum values from a list.\n",
        "Immutable Data Structures\n",
        "\n",
        "**Immutable Data Structures**\n",
        "\n",
        " Tuples are used in scenarios where immutability is desired. Their immutable nature makes them suitable for use as dictionary keys or elements of other sets.\n",
        "\n",
        "***Example:*** Storing key-value pairs in a dictionary where the keys are tuples.\n",
        "Efficient Memory Usage\n"
      ],
      "metadata": {
        "id": "biOnxl6kWpNB"
      }
    },
    {
      "cell_type": "markdown",
      "source": [
        "***Use Cases of sets>>***\n",
        "\n",
        "**1 Removing Duplicates**\n",
        "\n",
        " Sets are ideal for removing duplicate values from a collection. By converting a list or other iterable to a set, duplicate elements are automatically eliminated.\n",
        "\n",
        "\n",
        "**Example:** Filtering out duplicate entries from a list of user IDs.\n",
        "\n",
        "**2 Membership Testing**\n",
        "\n",
        " Sets provide efficient membership testing operations. Checking whether an item is in a set is typically faster than checking membership in a list due to the underlying hash table implementation.\n",
        "\n",
        "**EXAMPLES**   Quickly checking if a user ID exists in a set of valid IDs.\n",
        "\n",
        "**3 SET OPERATIONS**\n",
        "\n",
        "Description: Sets support mathematical operations such as union, intersection, difference, and symmetric difference. These operations are useful for comparing and combining collections of data\n",
        "\n",
        "\n",
        "**Example** Finding common elements between two sets or combining multiple sets of results."
      ],
      "metadata": {
        "id": "ZwqNJQy3Yz46"
      }
    },
    {
      "cell_type": "markdown",
      "source": [
        "## **(Q.7) DESCRIBE HOW TO ADD, MODIFY,AND DELETE ITEMS IN A  DICTIONARY WITH EXAMPLES**\n",
        "\n",
        "**1. Adding Items**\n",
        "\n",
        " To add a new key-value pair to a dictionary, you assign a value to a new key. If the key does not already exist in the dictionary, a new entry is created.\n",
        "\n",
        "*Method* :\n",
        "\n",
        "***Syntax***  : dictionary [key] = value\n",
        "\n",
        "**2. Deleting Items**\n",
        "\n",
        " To remove a key-value pair from a dictionary, you can use methods that either delete the item directly or return the removed value.\n",
        "\n",
        "*Method*:\n",
        "\n",
        "\n",
        "***Syntax*** : del dictionary[key]\n",
        "\n",
        "Using pop()\n",
        "\n",
        "***Syntax*** : dictionary.pop(key)\n",
        "\n",
        "**3. MODIFY ITEMS**\n",
        "\n",
        "To change the value associated with an existing key, you reassign a new value to that key. If the key already exists, its value will be updated.\n",
        "\n",
        "\n",
        "*Method*:\n",
        "\n",
        "**Syntax**: dictionary[key] = new_value\n",
        "\n",
        "##**EXAMPLES :-**"
      ],
      "metadata": {
        "id": "nLOs4KVycuLL"
      }
    },
    {
      "cell_type": "code",
      "source": [
        "#ADDING ITEMS\n",
        "\n",
        "my_dict = {'name': 'Abhash', 'age': 18}\n",
        "\n",
        "# Adding a new item\n",
        "my_dict['city'] = ' azamgarh'\n",
        "\n",
        "print(my_dict)\n",
        "\n"
      ],
      "metadata": {
        "colab": {
          "base_uri": "https://localhost:8080/"
        },
        "id": "IXEiUtaAfzHC",
        "outputId": "253eb67d-ee44-49bd-b74d-a430df0e8fcd"
      },
      "execution_count": 18,
      "outputs": [
        {
          "output_type": "stream",
          "name": "stdout",
          "text": [
            "{'name': 'Abhash', 'age': 18, 'city': ' azamgarh'}\n"
          ]
        }
      ]
    },
    {
      "cell_type": "code",
      "source": [
        "#MODIFY ITEMS\n",
        "\n",
        "my_dict = {'name': 'Abhash', 'age': 18, 'city': 'azamgarh'}\n",
        "\n",
        "my_dict['age'] = 19\n",
        "\n",
        "print(my_dict)\n"
      ],
      "metadata": {
        "colab": {
          "base_uri": "https://localhost:8080/"
        },
        "id": "o3pyrFlqhS1s",
        "outputId": "380da542-4bfb-457f-877d-830eac2b6c0f"
      },
      "execution_count": 19,
      "outputs": [
        {
          "output_type": "stream",
          "name": "stdout",
          "text": [
            "{'name': 'Abhash', 'age': 19, 'city': 'azamgarh'}\n"
          ]
        }
      ]
    },
    {
      "cell_type": "code",
      "source": [
        "#DELETING  ITEMS\n",
        "\n",
        "my_dict = {'name': 'Abhash ', 'age': 19, 'city': 'azamgarh'}\n",
        "\n",
        "del my_dict['name']"
      ],
      "metadata": {
        "id": "nb7Rt_Ylh6tj"
      },
      "execution_count": 25,
      "outputs": []
    },
    {
      "cell_type": "code",
      "source": [
        "print(my_dict)"
      ],
      "metadata": {
        "colab": {
          "base_uri": "https://localhost:8080/"
        },
        "id": "VAqeha27ijJA",
        "outputId": "229a270a-d7d1-46d0-cede-58823cb17380"
      },
      "execution_count": 26,
      "outputs": [
        {
          "output_type": "stream",
          "name": "stdout",
          "text": [
            "{'age': 19, 'city': 'azamgarh'}\n"
          ]
        }
      ]
    },
    {
      "cell_type": "code",
      "source": [],
      "metadata": {
        "id": "4BqZ4k3MjaXj"
      },
      "execution_count": null,
      "outputs": []
    },
    {
      "cell_type": "markdown",
      "source": [
        "## **(Q.8) DISCUSS THE IMPORTANCE OF DICITIONARY KEYS BEING IMMUTABLE AND PROVIDE EXAMPLE**\n",
        "\n",
        "\n"
      ],
      "metadata": {
        "id": "YUARlkE9jioD"
      }
    },
    {
      "cell_type": "markdown",
      "source": [
        "## **Importance of Immutable Dictionary Keys**\n",
        "\n",
        "###**1. Consistent Access** >>>\n",
        "\n",
        " Dictionary keys must be immutable to ensure that their value does not change.\n",
        "\n",
        "If a key’s value could change, the dictionary wouldn’t be able to find the value associated with it correctly because the key’s position in the dictionary relies on a consistent hash value.\n",
        "\n",
        "**Example:**\n",
        "\n",
        "Imagine a dictionary where you use a key to look up a value. If you change the key’s value, the dictionary might not find the value anymore because the key has moved or is no longer the same.\n",
        "\n",
        "###**2. Reliable Data Access** >>>\n",
        "\n",
        "Immutable keys prevent accidental changes that could affect data retrieval. Once a key is added to the dictionary, its immutability ensures that the key-value mapping remains intact.\n",
        "\n",
        "**Example:**\n",
        "\n",
        "Using an immutable tuple as a key ensures that the key-value relationship remains reliable throughout the program’s execution.\n",
        "\n",
        "###**3. Data Integrity** >>>\n",
        "\n",
        "Ensuring that keys are immutable helps maintain the integrity of the data structure. Since the keys cannot be altered, it avoids issues related to data corruption or incorrect value retrieval.\n",
        "\n",
        "**Examples:**\n",
        "\n",
        "If keys were mutable, changes to a key could disrupt the dictionary’s internal organization, leading to potential data loss or incorrect data access.\n",
        "\n",
        "###**4. Consistent Operations** >>>\n",
        "\n",
        "Operations like lookups, insertions, and deletions rely on the key’s hash value. Immutable keys ensure that these operations perform consistently and predictably.\n",
        "\n",
        "**Examples**\n",
        "\n",
        "searching for a value with a key remains accurate because the key's hash does not change, ensuring that the dictionary’s internal mapping is always correct."
      ],
      "metadata": {
        "id": "uNwBgs-VlZLB"
      }
    },
    {
      "cell_type": "code",
      "source": [
        "# Dictionary with string keys\n",
        "contacts = { 'akash': '08761234','Jay': '55764678','Deepak': '44448765'}\n",
        "print((contacts['akash']))\n",
        "\n",
        "# Accessing a value using a string key\n",
        "\n",
        "\n",
        "#we use string because string are immutable in python\n"
      ],
      "metadata": {
        "colab": {
          "base_uri": "https://localhost:8080/"
        },
        "id": "LZskfxOWp_bP",
        "outputId": "5c680b1b-0928-414f-e1e5-9c069852bcb1"
      },
      "execution_count": 31,
      "outputs": [
        {
          "output_type": "stream",
          "name": "stdout",
          "text": [
            "08761234\n"
          ]
        }
      ]
    },
    {
      "cell_type": "markdown",
      "source": [
        "### ***THIS IS SOME EXAMPLE OF IMMUTABLE DICITIONARY KEYS***"
      ],
      "metadata": {
        "id": "H2rOFWLssjRt"
      }
    },
    {
      "cell_type": "code",
      "source": [],
      "metadata": {
        "id": "l10zbCK6rmW0"
      },
      "execution_count": null,
      "outputs": []
    }
  ]
}